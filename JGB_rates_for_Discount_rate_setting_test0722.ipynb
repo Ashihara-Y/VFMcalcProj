{
 "cells": [
  {
   "cell_type": "code",
   "execution_count": 1,
   "id": "a25dc235",
   "metadata": {
    "colab": {
     "base_uri": "https://localhost:8080/",
     "height": 377
    },
    "executionInfo": {
     "elapsed": 549,
     "status": "error",
     "timestamp": 1685967866623,
     "user": {
      "displayName": "Yoshihiro Ashihara",
      "userId": "17435599430999555701"
     },
     "user_tz": -540
    },
    "id": "a25dc235",
    "outputId": "70398f07-c847-46f5-b5b3-9a78c2b73e42"
   },
   "outputs": [],
   "source": [
    "import requests\n",
    "import pandas as pd\n",
    "from datetime import datetime\n",
    "import numpy as np\n",
    "import asyncio\n",
    "import joblib"
   ]
  },
  {
   "cell_type": "code",
   "execution_count": 2,
   "id": "6dc010ed",
   "metadata": {},
   "outputs": [
    {
     "name": "stdout",
     "output_type": "stream",
     "text": [
      "/home/broom/VFMcalcProj\n"
     ]
    }
   ],
   "source": [
    "!pwd"
   ]
  },
  {
   "cell_type": "code",
   "execution_count": 3,
   "id": "4de4d906",
   "metadata": {},
   "outputs": [
    {
     "name": "stdout",
     "output_type": "stream",
     "text": [
      "total 1284\n",
      "drwxr-xr-x  6 broom broom    4096 Aug 22 02:22  .\n",
      "drwxr-x--- 55 broom broom    4096 Aug 22 02:22  ..\n",
      "-rw-r--r--  1 broom broom    1486 Aug  6 13:11  BOJ_ExpInflRate_down.py\n",
      "-rw-r--r--  1 broom broom    6148 Aug  6 13:11  .DS_Store\n",
      "-rw-r--r--  1 broom broom     500 Aug 22 08:22  final_inputs.joblib\n",
      "-rw-r--r--  1 broom broom    4992 Aug 22 04:47  Final_Inputs.py\n",
      "-rw-r--r--  1 broom broom    7021 Aug  6 13:11  Flet_inputDialogTest.py\n",
      "-rw-r--r--  1 broom broom    6923 Aug  6 13:11 'Flet_kinriselect _test.py'\n",
      "drwxr-xr-x  8 broom broom    4096 Aug 22 08:34  .git\n",
      "-rw-r--r--  1 broom broom    3104 Aug  7 09:17  .gitignore\n",
      "-rw-r--r--  1 broom broom     511 Aug  6 18:08  initail_inputs.joblib\n",
      "-rw-r--r--  1 broom broom     505 Aug 22 08:22  initial_inputs.joblib\n",
      "-rw-r--r--  1 broom broom    5995 Aug 22 03:25  Initial_Inputs.py\n",
      "drwxr-xr-x  2 broom broom    4096 Aug 21 16:41  .ipynb_checkpoints\n",
      "-rw-r--r--  1 broom broom 1101029 Aug  6 13:11  jgbcm_all.csv\n",
      "-rw-r--r--  1 broom broom     142 Aug  6 13:11  JGB_rates.csv\n",
      "-rw-r--r--  1 broom broom   34141 Aug  6 13:11  JGB_rates_for_Discount_rate_setting_test0722.ipynb\n",
      "-rw-r--r--  1 broom broom   22545 Aug  6 13:11  JGB_rates_for_Discount_rate_setting_test.ipynb\n",
      "-rw-r--r--  1 broom broom    1195 Aug  6 13:11  jgb_rates.py\n",
      "-rw-r--r--  1 broom broom      61 Aug  6 13:11  JRB_rates.csv\n",
      "-rw-r--r--  1 broom broom   11357 Aug  6 13:11  LICENCE\n",
      "-rw-r--r--  1 broom broom    2141 Aug  7 12:28  main.py\n",
      "drwxr-xr-x  2 broom broom    4096 Aug  6 13:11  __pycache__\n",
      "-rw-r--r--  1 broom broom       7 Aug  6 13:11  .python-version\n",
      "-rw-r--r--  1 broom broom      14 Aug  6 13:11  README.md\n",
      "-rw-r--r--  1 broom broom     220 Aug 22 08:22  res_PSC_LCC.joblib\n",
      "-rw-r--r--  1 broom broom    1850 Aug 22 08:22  results.joblib\n",
      "-rw-r--r--  1 broom broom    3085 Aug  7 19:56  Resultview.py\n",
      "drwx------  2 broom broom    4096 Aug  6 18:01  tmpydm4_oyt\n",
      "-rw-r--r--  1 broom broom    6412 Aug 21 16:47  Untitled.ipynb\n",
      "-rw-r--r--  1 broom broom    7581 Aug 22 05:57  VFM_calc.py\n"
     ]
    }
   ],
   "source": [
    "!ls -la"
   ]
  },
  {
   "cell_type": "code",
   "execution_count": 56,
   "id": "cbfa2532",
   "metadata": {},
   "outputs": [],
   "source": [
    "results =joblib.load('results.pkl')\n",
    "res_PSC_LCC = joblib.load('res_PSC_LCC.pkl')\n",
    "final_inputs = joblib.load('Final_Inputs.pkl')\n",
    "initial_inputs = joblib.load('Initial_Inputs.pkl')"
   ]
  },
  {
   "cell_type": "code",
   "execution_count": 57,
   "id": "c6873e6d",
   "metadata": {},
   "outputs": [
    {
     "data": {
      "text/plain": [
       "dict_keys(['mgmt_type', 'proj_ctgry', 'proj_type', 'proj_years', 'const_years', 'kijun_kinri', 'chisai_kinri', 'zei_modori', 'lg_spread', 'zei_total', 'growth', 'kitai_bukka', 'shisetsu_seibi', 'ijikanri_unnei', 'reduc_shisetsu', 'reduc_ijikanri', 'pre_kyoukouka', 'kisai_jutou', 'kisai_koufu', 'zeimae_rieki', 'SPC_keihi', 'hojo'])"
      ]
     },
     "execution_count": 57,
     "metadata": {},
     "output_type": "execute_result"
    }
   ],
   "source": [
    "#final_inputs.keys()\n",
    "initial_inputs.keys()\n",
    "#proj_years = final_inputs['proj_years']"
   ]
  },
  {
   "cell_type": "code",
   "execution_count": 58,
   "id": "44e140e5",
   "metadata": {},
   "outputs": [
    {
     "name": "stdout",
     "output_type": "stream",
     "text": [
      "75.0\n",
      "30.0\n",
      "30.0\n",
      "8.4\n",
      "市町村\n",
      "30\n",
      "3\n",
      "75.0\n",
      "30.0\n",
      "24\n",
      "3\n",
      "20\n",
      "3\n"
     ]
    }
   ],
   "source": [
    "print(initial_inputs['kisai_jutou'])\n",
    "print(initial_inputs['kisai_koufu'])\n",
    "print(initial_inputs['hojo'])\n",
    "print(initial_inputs['zei_modori'])\n",
    "print(initial_inputs['mgmt_type'])\n",
    "print(initial_inputs['proj_years'])\n",
    "print(initial_inputs['const_years'])\n",
    "print(final_inputs['kisai_jutou'])\n",
    "print(final_inputs['kisai_koufu'])\n",
    "print(final_inputs['proj_years'])\n",
    "print(final_inputs['const_years'])\n",
    "print(res_PSC_LCC['proj_years'])\n",
    "print(res_PSC_LCC['const_years'])"
   ]
  },
  {
   "cell_type": "code",
   "execution_count": 59,
   "id": "abdd40ed",
   "metadata": {},
   "outputs": [
    {
     "name": "stdout",
     "output_type": "stream",
     "text": [
      "3\n",
      "17\n",
      "20\n"
     ]
    }
   ],
   "source": [
    "const_years = res_PSC_LCC['const_years']\n",
    "ijikanri_years = res_PSC_LCC['ijikanri_years']\n",
    "proj_years = res_PSC_LCC['proj_years']\n",
    "discount_rate = res_PSC_LCC['discount_rate']\n",
    "print(const_years)\n",
    "print(ijikanri_years)\n",
    "print(proj_years)"
   ]
  },
  {
   "cell_type": "code",
   "execution_count": 60,
   "id": "35e09af6",
   "metadata": {},
   "outputs": [
    {
     "name": "stdout",
     "output_type": "stream",
     "text": [
      "24\n",
      "3\n"
     ]
    }
   ],
   "source": [
    "print(final_inputs['proj_years'])\n",
    "print(final_inputs['const_years'])"
   ]
  },
  {
   "cell_type": "code",
   "execution_count": 61,
   "id": "1d15bebb",
   "metadata": {},
   "outputs": [
    {
     "name": "stdout",
     "output_type": "stream",
     "text": [
      "3\n",
      "3.249724880382775\n",
      "[1.0683057912353333, 1.0335887921389886, 1.0]\n",
      "20\n",
      "[0.9685255831514548, 0.9380418052188655, 0.908517486420045, 0.8799224283382681, 0.8522273830343652, 0.8254040231309968, 0.7994249128385055, 0.7742634798927144, 0.7498939883759659, 0.7262915123936026, 0.703431910578966, 0.681291801400835, 0.6598485392480489, 0.6390801912668521, 0.6189655149272711, 0.5994839362955758, 0.5806155289906021, 0.5623409938024133, 0.5446416389524509, 0.5274993609749866]\n"
     ]
    }
   ],
   "source": [
    "PSC_const_discount_factor = [(1/(1-float(discount_rate)/100))** i for i in reversed(range(int(const_years)))]\n",
    "LCC_discount_factor = [(1/(1+float(discount_rate)/100))** i for i in range(1, int(proj_years)+1)]\n",
    "print(const_years)\n",
    "print(discount_rate)\n",
    "print(PSC_const_discount_factor)\n",
    "print(proj_years)\n",
    "print(LCC_discount_factor)"
   ]
  },
  {
   "cell_type": "code",
   "execution_count": 49,
   "id": "42e04118",
   "metadata": {},
   "outputs": [
    {
     "data": {
      "text/plain": [
       "[0.9685255831514548,\n",
       " 0.9380418052188655,\n",
       " 0.908517486420045,\n",
       " 0.8799224283382681,\n",
       " 0.8522273830343652,\n",
       " 0.8254040231309968,\n",
       " 0.7994249128385055,\n",
       " 0.7742634798927144,\n",
       " 0.7498939883759659,\n",
       " 0.7262915123936026,\n",
       " 0.703431910578966,\n",
       " 0.681291801400835,\n",
       " 0.6598485392480489,\n",
       " 0.6390801912668521,\n",
       " 0.6189655149272711,\n",
       " 0.5994839362955758,\n",
       " 0.5806155289906021,\n",
       " 0.5623409938024133,\n",
       " 0.5446416389524509,\n",
       " 0.5274993609749866]"
      ]
     },
     "execution_count": 49,
     "metadata": {},
     "output_type": "execute_result"
    }
   ],
   "source": [
    "results['LCC_discount_factor']"
   ]
  },
  {
   "cell_type": "code",
   "execution_count": 50,
   "id": "c332e078",
   "metadata": {},
   "outputs": [
    {
     "data": {
      "text/plain": [
       "[1.0683057912353333, 1.0335887921389886, 1.0]"
      ]
     },
     "execution_count": 50,
     "metadata": {},
     "output_type": "execute_result"
    }
   ],
   "source": [
    "results['PSC_const_discount_factor']"
   ]
  },
  {
   "cell_type": "code",
   "execution_count": 51,
   "id": "a93d1166",
   "metadata": {},
   "outputs": [
    {
     "data": {
      "text/plain": [
       "[0.9685255831514548,\n",
       " 0.9380418052188655,\n",
       " 0.908517486420045,\n",
       " 0.8799224283382681,\n",
       " 0.8522273830343652,\n",
       " 0.8254040231309968,\n",
       " 0.7994249128385055,\n",
       " 0.7742634798927144,\n",
       " 0.7498939883759659,\n",
       " 0.7262915123936026,\n",
       " 0.703431910578966,\n",
       " 0.681291801400835,\n",
       " 0.6598485392480489,\n",
       " 0.6390801912668521,\n",
       " 0.6189655149272711,\n",
       " 0.5994839362955758,\n",
       " 0.5806155289906021,\n",
       " 0.5623409938024133,\n",
       " 0.5446416389524509,\n",
       " 0.5274993609749866]"
      ]
     },
     "execution_count": 51,
     "metadata": {},
     "output_type": "execute_result"
    }
   ],
   "source": [
    "results['LCC_discount_factor']"
   ]
  },
  {
   "cell_type": "code",
   "execution_count": 4,
   "id": "e4a5f633",
   "metadata": {
    "id": "e4a5f633",
    "scrolled": false
   },
   "outputs": [],
   "source": [
    "JGB_rates = pd.read_csv('https://www.mof.go.jp/jgbs/reference/interest_rate/data/jgbcm_all.csv', encoding='Shift-JIS', header=1)"
   ]
  },
  {
   "cell_type": "code",
   "execution_count": 5,
   "id": "87121fcd",
   "metadata": {
    "id": "87121fcd"
   },
   "outputs": [
    {
     "data": {
      "text/html": [
       "<div>\n",
       "<style scoped>\n",
       "    .dataframe tbody tr th:only-of-type {\n",
       "        vertical-align: middle;\n",
       "    }\n",
       "\n",
       "    .dataframe tbody tr th {\n",
       "        vertical-align: top;\n",
       "    }\n",
       "\n",
       "    .dataframe thead th {\n",
       "        text-align: right;\n",
       "    }\n",
       "</style>\n",
       "<table border=\"1\" class=\"dataframe\">\n",
       "  <thead>\n",
       "    <tr style=\"text-align: right;\">\n",
       "      <th></th>\n",
       "      <th>基準日</th>\n",
       "      <th>1年</th>\n",
       "      <th>2年</th>\n",
       "      <th>3年</th>\n",
       "      <th>4年</th>\n",
       "      <th>5年</th>\n",
       "      <th>6年</th>\n",
       "      <th>7年</th>\n",
       "      <th>8年</th>\n",
       "      <th>9年</th>\n",
       "      <th>10年</th>\n",
       "      <th>15年</th>\n",
       "      <th>20年</th>\n",
       "      <th>25年</th>\n",
       "      <th>30年</th>\n",
       "      <th>40年</th>\n",
       "    </tr>\n",
       "  </thead>\n",
       "  <tbody>\n",
       "    <tr>\n",
       "      <th>0</th>\n",
       "      <td>S49.9.24</td>\n",
       "      <td>10.327</td>\n",
       "      <td>9.362</td>\n",
       "      <td>8.83</td>\n",
       "      <td>8.515</td>\n",
       "      <td>8.348</td>\n",
       "      <td>8.290</td>\n",
       "      <td>8.24</td>\n",
       "      <td>8.121</td>\n",
       "      <td>8.127</td>\n",
       "      <td>-</td>\n",
       "      <td>-</td>\n",
       "      <td>-</td>\n",
       "      <td>-</td>\n",
       "      <td>-</td>\n",
       "      <td>-</td>\n",
       "    </tr>\n",
       "    <tr>\n",
       "      <th>1</th>\n",
       "      <td>S49.9.25</td>\n",
       "      <td>10.333</td>\n",
       "      <td>9.364</td>\n",
       "      <td>8.831</td>\n",
       "      <td>8.516</td>\n",
       "      <td>8.348</td>\n",
       "      <td>8.290</td>\n",
       "      <td>8.24</td>\n",
       "      <td>8.121</td>\n",
       "      <td>8.127</td>\n",
       "      <td>-</td>\n",
       "      <td>-</td>\n",
       "      <td>-</td>\n",
       "      <td>-</td>\n",
       "      <td>-</td>\n",
       "      <td>-</td>\n",
       "    </tr>\n",
       "    <tr>\n",
       "      <th>2</th>\n",
       "      <td>S49.9.26</td>\n",
       "      <td>10.34</td>\n",
       "      <td>9.366</td>\n",
       "      <td>8.832</td>\n",
       "      <td>8.516</td>\n",
       "      <td>8.348</td>\n",
       "      <td>8.290</td>\n",
       "      <td>8.24</td>\n",
       "      <td>8.122</td>\n",
       "      <td>8.128</td>\n",
       "      <td>-</td>\n",
       "      <td>-</td>\n",
       "      <td>-</td>\n",
       "      <td>-</td>\n",
       "      <td>-</td>\n",
       "      <td>-</td>\n",
       "    </tr>\n",
       "    <tr>\n",
       "      <th>3</th>\n",
       "      <td>S49.9.27</td>\n",
       "      <td>10.347</td>\n",
       "      <td>9.367</td>\n",
       "      <td>8.833</td>\n",
       "      <td>8.517</td>\n",
       "      <td>8.349</td>\n",
       "      <td>8.290</td>\n",
       "      <td>8.24</td>\n",
       "      <td>8.122</td>\n",
       "      <td>8.128</td>\n",
       "      <td>-</td>\n",
       "      <td>-</td>\n",
       "      <td>-</td>\n",
       "      <td>-</td>\n",
       "      <td>-</td>\n",
       "      <td>-</td>\n",
       "    </tr>\n",
       "    <tr>\n",
       "      <th>4</th>\n",
       "      <td>S49.9.28</td>\n",
       "      <td>10.354</td>\n",
       "      <td>9.369</td>\n",
       "      <td>8.834</td>\n",
       "      <td>8.518</td>\n",
       "      <td>8.349</td>\n",
       "      <td>8.291</td>\n",
       "      <td>8.24</td>\n",
       "      <td>8.122</td>\n",
       "      <td>8.129</td>\n",
       "      <td>-</td>\n",
       "      <td>-</td>\n",
       "      <td>-</td>\n",
       "      <td>-</td>\n",
       "      <td>-</td>\n",
       "      <td>-</td>\n",
       "    </tr>\n",
       "  </tbody>\n",
       "</table>\n",
       "</div>"
      ],
      "text/plain": [
       "        基準日      1年     2年     3年     4年     5年     6年    7年     8年     9年  \\\n",
       "0  S49.9.24  10.327  9.362   8.83  8.515  8.348  8.290  8.24  8.121  8.127   \n",
       "1  S49.9.25  10.333  9.364  8.831  8.516  8.348  8.290  8.24  8.121  8.127   \n",
       "2  S49.9.26   10.34  9.366  8.832  8.516  8.348  8.290  8.24  8.122  8.128   \n",
       "3  S49.9.27  10.347  9.367  8.833  8.517  8.349  8.290  8.24  8.122  8.128   \n",
       "4  S49.9.28  10.354  9.369  8.834  8.518  8.349  8.291  8.24  8.122  8.129   \n",
       "\n",
       "  10年 15年 20年 25年 30年 40年  \n",
       "0   -   -   -   -   -   -  \n",
       "1   -   -   -   -   -   -  \n",
       "2   -   -   -   -   -   -  \n",
       "3   -   -   -   -   -   -  \n",
       "4   -   -   -   -   -   -  "
      ]
     },
     "execution_count": 5,
     "metadata": {},
     "output_type": "execute_result"
    }
   ],
   "source": [
    "JGB_rates.head()"
   ]
  },
  {
   "cell_type": "code",
   "execution_count": 6,
   "id": "aPhisk8tzRv1",
   "metadata": {
    "id": "aPhisk8tzRv1"
   },
   "outputs": [],
   "source": [
    "def dateConv(date):\n",
    "\n",
    "    wareki = {\n",
    "            \"R\":2018,\n",
    "            \"H\":1988,\n",
    "            \"S\":1925\n",
    "            }\n",
    "  \n",
    "    date_els = date.split('.', 2)\n",
    "    year_num = int(date_els[0][1:])\n",
    "    era = date_els[0][0]\n",
    " \n",
    "    year = year_num + wareki[era]\n",
    "\n",
    "    month =int(date_els[1])\n",
    "    day = int(date_els[2])\n",
    "\n",
    "    dt = datetime(year, month, day)\n",
    "\n",
    "    return dt\n",
    "\n"
   ]
  },
  {
   "cell_type": "code",
   "execution_count": 7,
   "id": "8652c71a",
   "metadata": {
    "id": "8652c71a"
   },
   "outputs": [],
   "source": [
    "JGB_rates[\"基準日\"] = JGB_rates['基準日'].apply(dateConv)\n",
    "JGB_rates = JGB_rates.set_index('基準日')\n",
    "JGB_rates.replace('-', np.nan, inplace=True)"
   ]
  },
  {
   "cell_type": "code",
   "execution_count": 8,
   "id": "37a7f197",
   "metadata": {
    "id": "37a7f197"
   },
   "outputs": [
    {
     "data": {
      "text/html": [
       "<div>\n",
       "<style scoped>\n",
       "    .dataframe tbody tr th:only-of-type {\n",
       "        vertical-align: middle;\n",
       "    }\n",
       "\n",
       "    .dataframe tbody tr th {\n",
       "        vertical-align: top;\n",
       "    }\n",
       "\n",
       "    .dataframe thead th {\n",
       "        text-align: right;\n",
       "    }\n",
       "</style>\n",
       "<table border=\"1\" class=\"dataframe\">\n",
       "  <thead>\n",
       "    <tr style=\"text-align: right;\">\n",
       "      <th></th>\n",
       "      <th>1年</th>\n",
       "      <th>2年</th>\n",
       "      <th>3年</th>\n",
       "      <th>4年</th>\n",
       "      <th>5年</th>\n",
       "      <th>6年</th>\n",
       "      <th>7年</th>\n",
       "      <th>8年</th>\n",
       "      <th>9年</th>\n",
       "      <th>10年</th>\n",
       "      <th>15年</th>\n",
       "      <th>20年</th>\n",
       "      <th>25年</th>\n",
       "      <th>30年</th>\n",
       "      <th>40年</th>\n",
       "    </tr>\n",
       "    <tr>\n",
       "      <th>基準日</th>\n",
       "      <th></th>\n",
       "      <th></th>\n",
       "      <th></th>\n",
       "      <th></th>\n",
       "      <th></th>\n",
       "      <th></th>\n",
       "      <th></th>\n",
       "      <th></th>\n",
       "      <th></th>\n",
       "      <th></th>\n",
       "      <th></th>\n",
       "      <th></th>\n",
       "      <th></th>\n",
       "      <th></th>\n",
       "      <th></th>\n",
       "    </tr>\n",
       "  </thead>\n",
       "  <tbody>\n",
       "    <tr>\n",
       "      <th>1974-09-24</th>\n",
       "      <td>10.327</td>\n",
       "      <td>9.362</td>\n",
       "      <td>8.83</td>\n",
       "      <td>8.515</td>\n",
       "      <td>8.348</td>\n",
       "      <td>8.290</td>\n",
       "      <td>8.24</td>\n",
       "      <td>8.121</td>\n",
       "      <td>8.127</td>\n",
       "      <td>NaN</td>\n",
       "      <td>NaN</td>\n",
       "      <td>NaN</td>\n",
       "      <td>NaN</td>\n",
       "      <td>NaN</td>\n",
       "      <td>NaN</td>\n",
       "    </tr>\n",
       "    <tr>\n",
       "      <th>1974-09-25</th>\n",
       "      <td>10.333</td>\n",
       "      <td>9.364</td>\n",
       "      <td>8.831</td>\n",
       "      <td>8.516</td>\n",
       "      <td>8.348</td>\n",
       "      <td>8.290</td>\n",
       "      <td>8.24</td>\n",
       "      <td>8.121</td>\n",
       "      <td>8.127</td>\n",
       "      <td>NaN</td>\n",
       "      <td>NaN</td>\n",
       "      <td>NaN</td>\n",
       "      <td>NaN</td>\n",
       "      <td>NaN</td>\n",
       "      <td>NaN</td>\n",
       "    </tr>\n",
       "    <tr>\n",
       "      <th>1974-09-26</th>\n",
       "      <td>10.34</td>\n",
       "      <td>9.366</td>\n",
       "      <td>8.832</td>\n",
       "      <td>8.516</td>\n",
       "      <td>8.348</td>\n",
       "      <td>8.290</td>\n",
       "      <td>8.24</td>\n",
       "      <td>8.122</td>\n",
       "      <td>8.128</td>\n",
       "      <td>NaN</td>\n",
       "      <td>NaN</td>\n",
       "      <td>NaN</td>\n",
       "      <td>NaN</td>\n",
       "      <td>NaN</td>\n",
       "      <td>NaN</td>\n",
       "    </tr>\n",
       "    <tr>\n",
       "      <th>1974-09-27</th>\n",
       "      <td>10.347</td>\n",
       "      <td>9.367</td>\n",
       "      <td>8.833</td>\n",
       "      <td>8.517</td>\n",
       "      <td>8.349</td>\n",
       "      <td>8.290</td>\n",
       "      <td>8.24</td>\n",
       "      <td>8.122</td>\n",
       "      <td>8.128</td>\n",
       "      <td>NaN</td>\n",
       "      <td>NaN</td>\n",
       "      <td>NaN</td>\n",
       "      <td>NaN</td>\n",
       "      <td>NaN</td>\n",
       "      <td>NaN</td>\n",
       "    </tr>\n",
       "    <tr>\n",
       "      <th>1974-09-28</th>\n",
       "      <td>10.354</td>\n",
       "      <td>9.369</td>\n",
       "      <td>8.834</td>\n",
       "      <td>8.518</td>\n",
       "      <td>8.349</td>\n",
       "      <td>8.291</td>\n",
       "      <td>8.24</td>\n",
       "      <td>8.122</td>\n",
       "      <td>8.129</td>\n",
       "      <td>NaN</td>\n",
       "      <td>NaN</td>\n",
       "      <td>NaN</td>\n",
       "      <td>NaN</td>\n",
       "      <td>NaN</td>\n",
       "      <td>NaN</td>\n",
       "    </tr>\n",
       "  </tbody>\n",
       "</table>\n",
       "</div>"
      ],
      "text/plain": [
       "                1年     2年     3年     4年     5年     6年    7年     8年     9年  \\\n",
       "基準日                                                                         \n",
       "1974-09-24  10.327  9.362   8.83  8.515  8.348  8.290  8.24  8.121  8.127   \n",
       "1974-09-25  10.333  9.364  8.831  8.516  8.348  8.290  8.24  8.121  8.127   \n",
       "1974-09-26   10.34  9.366  8.832  8.516  8.348  8.290  8.24  8.122  8.128   \n",
       "1974-09-27  10.347  9.367  8.833  8.517  8.349  8.290  8.24  8.122  8.128   \n",
       "1974-09-28  10.354  9.369  8.834  8.518  8.349  8.291  8.24  8.122  8.129   \n",
       "\n",
       "            10年  15年  20年  25年  30年  40年  \n",
       "基準日                                       \n",
       "1974-09-24  NaN  NaN  NaN  NaN  NaN  NaN  \n",
       "1974-09-25  NaN  NaN  NaN  NaN  NaN  NaN  \n",
       "1974-09-26  NaN  NaN  NaN  NaN  NaN  NaN  \n",
       "1974-09-27  NaN  NaN  NaN  NaN  NaN  NaN  \n",
       "1974-09-28  NaN  NaN  NaN  NaN  NaN  NaN  "
      ]
     },
     "execution_count": 8,
     "metadata": {},
     "output_type": "execute_result"
    }
   ],
   "source": [
    "JGB_rates.head()"
   ]
  },
  {
   "cell_type": "code",
   "execution_count": 9,
   "id": "LMz-9FizISie",
   "metadata": {
    "id": "LMz-9FizISie"
   },
   "outputs": [
    {
     "name": "stdout",
     "output_type": "stream",
     "text": [
      "<class 'pandas.core.frame.DataFrame'>\n",
      "DatetimeIndex: 12537 entries, 1974-09-24 to 2023-07-31\n",
      "Data columns (total 15 columns):\n",
      " #   Column  Non-Null Count  Dtype  \n",
      "---  ------  --------------  -----  \n",
      " 0   1年      11889 non-null  object \n",
      " 1   2年      12176 non-null  object \n",
      " 2   3年      12461 non-null  object \n",
      " 3   4年      12537 non-null  float64\n",
      " 4   5年      12537 non-null  float64\n",
      " 5   6年      12537 non-null  float64\n",
      " 6   7年      12537 non-null  float64\n",
      " 7   8年      12537 non-null  float64\n",
      " 8   9年      12537 non-null  float64\n",
      " 9   10年     9176 non-null   object \n",
      " 10  15年     7835 non-null   object \n",
      " 11  20年     9063 non-null   object \n",
      " 12  25年     4742 non-null   object \n",
      " 13  30年     5860 non-null   object \n",
      " 14  40年     3848 non-null   object \n",
      "dtypes: float64(6), object(9)\n",
      "memory usage: 1.5+ MB\n"
     ]
    }
   ],
   "source": [
    "JGB_rates.info()"
   ]
  },
  {
   "cell_type": "code",
   "execution_count": 10,
   "id": "17c3dc24",
   "metadata": {
    "id": "17c3dc24"
   },
   "outputs": [
    {
     "data": {
      "text/plain": [
       "基準日\n",
       "1974-12-31    8.377000\n",
       "1975-12-31    8.483218\n",
       "1976-12-31    8.735269\n",
       "1977-12-31    7.500503\n",
       "1978-12-31    5.929144\n",
       "1979-12-31    7.424343\n",
       "1980-12-31    8.638351\n",
       "1981-12-31    8.210207\n",
       "1982-12-31    8.126912\n",
       "1983-12-31    7.693021\n",
       "1984-12-31    6.959432\n",
       "1985-12-31    6.359263\n",
       "1986-12-31    5.153240\n",
       "1987-12-31    4.267631\n",
       "1988-12-31    4.180077\n",
       "1989-12-31    5.005743\n",
       "1990-12-31    7.051776\n",
       "1991-12-31    6.474069\n",
       "1992-12-31    4.856466\n",
       "1993-12-31    3.606285\n",
       "1994-12-31    3.673360\n",
       "1995-12-31    2.608570\n",
       "1996-12-31    2.208781\n",
       "1997-12-31    1.546653\n",
       "1998-12-31    1.018368\n",
       "1999-12-31    0.983000\n",
       "2000-12-31    1.101435\n",
       "2001-12-31    0.540703\n",
       "2002-12-31    0.441244\n",
       "2003-12-31    0.409922\n",
       "2004-12-31    0.666313\n",
       "2005-12-31    0.628220\n",
       "2006-12-31    1.229774\n",
       "2007-12-31    1.236090\n",
       "2008-12-31    1.016457\n",
       "2009-12-31    0.702761\n",
       "2010-12-31    0.419980\n",
       "2011-12-31    0.427437\n",
       "2012-12-31    0.246508\n",
       "2013-12-31    0.235371\n",
       "2014-12-31    0.162418\n",
       "2015-12-31    0.078107\n",
       "2016-12-31   -0.187139\n",
       "2017-12-31   -0.108397\n",
       "2018-12-31   -0.094796\n",
       "2019-12-31   -0.217668\n",
       "2020-12-31   -0.118770\n",
       "2021-12-31   -0.096441\n",
       "2022-12-31    0.047131\n",
       "2023-12-31    0.153331\n",
       "Freq: A-DEC, Name: 5年, dtype: float64"
      ]
     },
     "execution_count": 10,
     "metadata": {},
     "output_type": "execute_result"
    }
   ],
   "source": [
    "JGB_rates['5年'].resample('Y').mean()"
   ]
  },
  {
   "cell_type": "code",
   "execution_count": 11,
   "id": "a1f9573c",
   "metadata": {
    "id": "a1f9573c"
   },
   "outputs": [],
   "source": [
    "JGB_rate_5_30 = JGB_rates[['5年', '10年', '15年', '20年', '25年', '30年']].dropna()\n",
    "JGB_rate_5_30 = JGB_rate_5_30.astype(float, errors='raise')"
   ]
  },
  {
   "cell_type": "code",
   "execution_count": 12,
   "id": "80a485ad",
   "metadata": {
    "id": "80a485ad"
   },
   "outputs": [
    {
     "data": {
      "text/html": [
       "<div>\n",
       "<style scoped>\n",
       "    .dataframe tbody tr th:only-of-type {\n",
       "        vertical-align: middle;\n",
       "    }\n",
       "\n",
       "    .dataframe tbody tr th {\n",
       "        vertical-align: top;\n",
       "    }\n",
       "\n",
       "    .dataframe thead th {\n",
       "        text-align: right;\n",
       "    }\n",
       "</style>\n",
       "<table border=\"1\" class=\"dataframe\">\n",
       "  <thead>\n",
       "    <tr style=\"text-align: right;\">\n",
       "      <th></th>\n",
       "      <th>5年</th>\n",
       "      <th>10年</th>\n",
       "      <th>15年</th>\n",
       "      <th>20年</th>\n",
       "      <th>25年</th>\n",
       "      <th>30年</th>\n",
       "    </tr>\n",
       "    <tr>\n",
       "      <th>基準日</th>\n",
       "      <th></th>\n",
       "      <th></th>\n",
       "      <th></th>\n",
       "      <th></th>\n",
       "      <th></th>\n",
       "      <th></th>\n",
       "    </tr>\n",
       "  </thead>\n",
       "  <tbody>\n",
       "    <tr>\n",
       "      <th>2022-08-31</th>\n",
       "      <td>0.001136</td>\n",
       "      <td>0.206818</td>\n",
       "      <td>0.551409</td>\n",
       "      <td>0.824909</td>\n",
       "      <td>1.015545</td>\n",
       "      <td>1.162591</td>\n",
       "    </tr>\n",
       "    <tr>\n",
       "      <th>2022-09-30</th>\n",
       "      <td>0.064750</td>\n",
       "      <td>0.269250</td>\n",
       "      <td>0.670050</td>\n",
       "      <td>0.951600</td>\n",
       "      <td>1.160450</td>\n",
       "      <td>1.311800</td>\n",
       "    </tr>\n",
       "    <tr>\n",
       "      <th>2022-10-31</th>\n",
       "      <td>0.090850</td>\n",
       "      <td>0.257150</td>\n",
       "      <td>0.769350</td>\n",
       "      <td>1.081450</td>\n",
       "      <td>1.298250</td>\n",
       "      <td>1.456100</td>\n",
       "    </tr>\n",
       "    <tr>\n",
       "      <th>2022-11-30</th>\n",
       "      <td>0.087100</td>\n",
       "      <td>0.265300</td>\n",
       "      <td>0.786750</td>\n",
       "      <td>1.104550</td>\n",
       "      <td>1.314900</td>\n",
       "      <td>1.480100</td>\n",
       "    </tr>\n",
       "    <tr>\n",
       "      <th>2022-12-31</th>\n",
       "      <td>0.178273</td>\n",
       "      <td>0.357045</td>\n",
       "      <td>0.873182</td>\n",
       "      <td>1.164773</td>\n",
       "      <td>1.351409</td>\n",
       "      <td>1.485909</td>\n",
       "    </tr>\n",
       "    <tr>\n",
       "      <th>2023-01-31</th>\n",
       "      <td>0.235947</td>\n",
       "      <td>0.479053</td>\n",
       "      <td>1.054789</td>\n",
       "      <td>1.327947</td>\n",
       "      <td>1.489789</td>\n",
       "      <td>1.575895</td>\n",
       "    </tr>\n",
       "    <tr>\n",
       "      <th>2023-02-28</th>\n",
       "      <td>0.214895</td>\n",
       "      <td>0.520053</td>\n",
       "      <td>1.047158</td>\n",
       "      <td>1.310474</td>\n",
       "      <td>1.444000</td>\n",
       "      <td>1.508579</td>\n",
       "    </tr>\n",
       "    <tr>\n",
       "      <th>2023-03-31</th>\n",
       "      <td>0.150727</td>\n",
       "      <td>0.402455</td>\n",
       "      <td>0.860500</td>\n",
       "      <td>1.135818</td>\n",
       "      <td>1.265727</td>\n",
       "      <td>1.353545</td>\n",
       "    </tr>\n",
       "    <tr>\n",
       "      <th>2023-04-30</th>\n",
       "      <td>0.160650</td>\n",
       "      <td>0.466450</td>\n",
       "      <td>0.850750</td>\n",
       "      <td>1.105800</td>\n",
       "      <td>1.241600</td>\n",
       "      <td>1.335400</td>\n",
       "    </tr>\n",
       "    <tr>\n",
       "      <th>2023-05-31</th>\n",
       "      <td>0.115050</td>\n",
       "      <td>0.419100</td>\n",
       "      <td>0.761300</td>\n",
       "      <td>1.020850</td>\n",
       "      <td>1.165400</td>\n",
       "      <td>1.265000</td>\n",
       "    </tr>\n",
       "    <tr>\n",
       "      <th>2023-06-30</th>\n",
       "      <td>0.089818</td>\n",
       "      <td>0.423455</td>\n",
       "      <td>0.753636</td>\n",
       "      <td>1.010091</td>\n",
       "      <td>1.152227</td>\n",
       "      <td>1.253227</td>\n",
       "    </tr>\n",
       "    <tr>\n",
       "      <th>2023-07-31</th>\n",
       "      <td>0.120050</td>\n",
       "      <td>0.464500</td>\n",
       "      <td>0.819400</td>\n",
       "      <td>1.078850</td>\n",
       "      <td>1.225100</td>\n",
       "      <td>1.316250</td>\n",
       "    </tr>\n",
       "  </tbody>\n",
       "</table>\n",
       "</div>"
      ],
      "text/plain": [
       "                  5年       10年       15年       20年       25年       30年\n",
       "基準日                                                                   \n",
       "2022-08-31  0.001136  0.206818  0.551409  0.824909  1.015545  1.162591\n",
       "2022-09-30  0.064750  0.269250  0.670050  0.951600  1.160450  1.311800\n",
       "2022-10-31  0.090850  0.257150  0.769350  1.081450  1.298250  1.456100\n",
       "2022-11-30  0.087100  0.265300  0.786750  1.104550  1.314900  1.480100\n",
       "2022-12-31  0.178273  0.357045  0.873182  1.164773  1.351409  1.485909\n",
       "2023-01-31  0.235947  0.479053  1.054789  1.327947  1.489789  1.575895\n",
       "2023-02-28  0.214895  0.520053  1.047158  1.310474  1.444000  1.508579\n",
       "2023-03-31  0.150727  0.402455  0.860500  1.135818  1.265727  1.353545\n",
       "2023-04-30  0.160650  0.466450  0.850750  1.105800  1.241600  1.335400\n",
       "2023-05-31  0.115050  0.419100  0.761300  1.020850  1.165400  1.265000\n",
       "2023-06-30  0.089818  0.423455  0.753636  1.010091  1.152227  1.253227\n",
       "2023-07-31  0.120050  0.464500  0.819400  1.078850  1.225100  1.316250"
      ]
     },
     "execution_count": 12,
     "metadata": {},
     "output_type": "execute_result"
    }
   ],
   "source": [
    "JGB_rate_5_30_12M = JGB_rate_5_30.resample('M').mean().tail(12)\n",
    "JGB_rate_5_30_12M"
   ]
  },
  {
   "cell_type": "code",
   "execution_count": 13,
   "id": "81c6bfc2",
   "metadata": {
    "id": "81c6bfc2"
   },
   "outputs": [
    {
     "data": {
      "text/plain": [
       "5年     0.125771\n",
       "10年    0.377552\n",
       "15年    0.816523\n",
       "20年    1.093093\n",
       "25年    1.260367\n",
       "30年    1.375366\n",
       "dtype: float64"
      ]
     },
     "execution_count": 13,
     "metadata": {},
     "output_type": "execute_result"
    }
   ],
   "source": [
    "JGB_rate_5_30_12M.mean()"
   ]
  },
  {
   "cell_type": "code",
   "execution_count": 14,
   "id": "92388084",
   "metadata": {},
   "outputs": [],
   "source": [
    "JGB_rates_df = pd.read_csv('JGB_rates.csv', sep='\\t', encoding='shift_jis', header=None, names=['year', 'rate'])"
   ]
  },
  {
   "cell_type": "code",
   "execution_count": 15,
   "id": "33c16b4e",
   "metadata": {},
   "outputs": [
    {
     "data": {
      "text/html": [
       "<div>\n",
       "<style scoped>\n",
       "    .dataframe tbody tr th:only-of-type {\n",
       "        vertical-align: middle;\n",
       "    }\n",
       "\n",
       "    .dataframe tbody tr th {\n",
       "        vertical-align: top;\n",
       "    }\n",
       "\n",
       "    .dataframe thead th {\n",
       "        text-align: right;\n",
       "    }\n",
       "</style>\n",
       "<table border=\"1\" class=\"dataframe\">\n",
       "  <thead>\n",
       "    <tr style=\"text-align: right;\">\n",
       "      <th></th>\n",
       "      <th>year</th>\n",
       "      <th>rate</th>\n",
       "    </tr>\n",
       "  </thead>\n",
       "  <tbody>\n",
       "    <tr>\n",
       "      <th>0</th>\n",
       "      <td>5年</td>\n",
       "      <td>0.125771</td>\n",
       "    </tr>\n",
       "    <tr>\n",
       "      <th>1</th>\n",
       "      <td>10年</td>\n",
       "      <td>0.377552</td>\n",
       "    </tr>\n",
       "    <tr>\n",
       "      <th>2</th>\n",
       "      <td>15年</td>\n",
       "      <td>0.816523</td>\n",
       "    </tr>\n",
       "    <tr>\n",
       "      <th>3</th>\n",
       "      <td>20年</td>\n",
       "      <td>1.093093</td>\n",
       "    </tr>\n",
       "    <tr>\n",
       "      <th>4</th>\n",
       "      <td>25年</td>\n",
       "      <td>1.260367</td>\n",
       "    </tr>\n",
       "    <tr>\n",
       "      <th>5</th>\n",
       "      <td>30年</td>\n",
       "      <td>1.375366</td>\n",
       "    </tr>\n",
       "  </tbody>\n",
       "</table>\n",
       "</div>"
      ],
      "text/plain": [
       "  year      rate\n",
       "0   5年  0.125771\n",
       "1  10年  0.377552\n",
       "2  15年  0.816523\n",
       "3  20年  1.093093\n",
       "4  25年  1.260367\n",
       "5  30年  1.375366"
      ]
     },
     "execution_count": 15,
     "metadata": {},
     "output_type": "execute_result"
    }
   ],
   "source": [
    "JGB_rates_df"
   ]
  },
  {
   "cell_type": "code",
   "execution_count": 29,
   "id": "04681c8e",
   "metadata": {},
   "outputs": [],
   "source": [
    "dd5value = \"21\"\n",
    "y,d = divmod(int(dd5value), 5)"
   ]
  },
  {
   "cell_type": "code",
   "execution_count": 30,
   "id": "e466e093",
   "metadata": {},
   "outputs": [],
   "source": [
    "if d > 2:\n",
    "    r_idx = str((y+1) * 5) + '年'\n",
    "elif d <= 2:\n",
    "    r_idx = str(y * 5) + '年'"
   ]
  },
  {
   "cell_type": "code",
   "execution_count": 36,
   "id": "44b08511",
   "metadata": {},
   "outputs": [
    {
     "name": "stdout",
     "output_type": "stream",
     "text": [
      "<class 'str'>\n"
     ]
    }
   ],
   "source": [
    "r_idx\n",
    "r_idx[-1]\n",
    "print(type(r_idx.replace('年', '')))"
   ]
  },
  {
   "cell_type": "code",
   "execution_count": 32,
   "id": "f43ab12d",
   "metadata": {},
   "outputs": [],
   "source": [
    "r1 = float(JGB_rates_df[JGB_rates_df['year']==r_idx]['rate'].iloc[0])"
   ]
  },
  {
   "cell_type": "code",
   "execution_count": 33,
   "id": "a19eb165",
   "metadata": {},
   "outputs": [
    {
     "data": {
      "text/plain": [
       "1.093092663476874"
      ]
     },
     "execution_count": 33,
     "metadata": {},
     "output_type": "execute_result"
    }
   ],
   "source": [
    "r1"
   ]
  },
  {
   "cell_type": "code",
   "execution_count": 26,
   "id": "1a5916c5",
   "metadata": {},
   "outputs": [],
   "source": [
    "JRB_rates_df = pd.read_csv('JRB_rates.csv', encoding='shift_jis', header=None, names=['year', 'rate'])"
   ]
  },
  {
   "cell_type": "code",
   "execution_count": 27,
   "id": "aea55554",
   "metadata": {},
   "outputs": [
    {
     "data": {
      "text/html": [
       "<div>\n",
       "<style scoped>\n",
       "    .dataframe tbody tr th:only-of-type {\n",
       "        vertical-align: middle;\n",
       "    }\n",
       "\n",
       "    .dataframe tbody tr th {\n",
       "        vertical-align: top;\n",
       "    }\n",
       "\n",
       "    .dataframe thead th {\n",
       "        text-align: right;\n",
       "    }\n",
       "</style>\n",
       "<table border=\"1\" class=\"dataframe\">\n",
       "  <thead>\n",
       "    <tr style=\"text-align: right;\">\n",
       "      <th></th>\n",
       "      <th>year</th>\n",
       "      <th>rate</th>\n",
       "    </tr>\n",
       "  </thead>\n",
       "  <tbody>\n",
       "    <tr>\n",
       "      <th>0</th>\n",
       "      <td>5年</td>\n",
       "      <td>0.25</td>\n",
       "    </tr>\n",
       "    <tr>\n",
       "      <th>1</th>\n",
       "      <td>10年</td>\n",
       "      <td>0.50</td>\n",
       "    </tr>\n",
       "    <tr>\n",
       "      <th>2</th>\n",
       "      <td>15年</td>\n",
       "      <td>0.75</td>\n",
       "    </tr>\n",
       "    <tr>\n",
       "      <th>3</th>\n",
       "      <td>20年</td>\n",
       "      <td>0.90</td>\n",
       "    </tr>\n",
       "    <tr>\n",
       "      <th>4</th>\n",
       "      <td>25年</td>\n",
       "      <td>1.05</td>\n",
       "    </tr>\n",
       "    <tr>\n",
       "      <th>5</th>\n",
       "      <td>30年</td>\n",
       "      <td>1.15</td>\n",
       "    </tr>\n",
       "  </tbody>\n",
       "</table>\n",
       "</div>"
      ],
      "text/plain": [
       "  year  rate\n",
       "0   5年  0.25\n",
       "1  10年  0.50\n",
       "2  15年  0.75\n",
       "3  20年  0.90\n",
       "4  25年  1.05\n",
       "5  30年  1.15"
      ]
     },
     "execution_count": 27,
     "metadata": {},
     "output_type": "execute_result"
    }
   ],
   "source": [
    "JRB_rates_df"
   ]
  },
  {
   "cell_type": "code",
   "execution_count": 28,
   "id": "c513dd56",
   "metadata": {},
   "outputs": [
    {
     "data": {
      "text/plain": [
       "0.9"
      ]
     },
     "execution_count": 28,
     "metadata": {},
     "output_type": "execute_result"
    }
   ],
   "source": [
    "r2 = float(JRB_rates_df[JRB_rates_df['year']==r_idx]['rate'].iloc[0])\n",
    "r2"
   ]
  },
  {
   "cell_type": "code",
   "execution_count": null,
   "id": "535b114a",
   "metadata": {},
   "outputs": [],
   "source": []
  }
 ],
 "metadata": {
  "colab": {
   "provenance": []
  },
  "kernelspec": {
   "display_name": "Python 3 (ipykernel)",
   "language": "python",
   "name": "python3"
  },
  "language_info": {
   "codemirror_mode": {
    "name": "ipython",
    "version": 3
   },
   "file_extension": ".py",
   "mimetype": "text/x-python",
   "name": "python",
   "nbconvert_exporter": "python",
   "pygments_lexer": "ipython3",
   "version": "3.11.3"
  }
 },
 "nbformat": 4,
 "nbformat_minor": 5
}
