{
 "cells": [
  {
   "cell_type": "code",
   "execution_count": 1,
   "id": "a25dc235",
   "metadata": {
    "colab": {
     "base_uri": "https://localhost:8080/",
     "height": 377
    },
    "executionInfo": {
     "elapsed": 549,
     "status": "error",
     "timestamp": 1685967866623,
     "user": {
      "displayName": "Yoshihiro Ashihara",
      "userId": "17435599430999555701"
     },
     "user_tz": -540
    },
    "id": "a25dc235",
    "outputId": "70398f07-c847-46f5-b5b3-9a78c2b73e42"
   },
   "outputs": [
    {
     "ename": "ModuleNotFoundError",
     "evalue": "No module named 'tinydb'",
     "output_type": "error",
     "traceback": [
      "\u001b[0;31m---------------------------------------------------------------------------\u001b[0m",
      "\u001b[0;31mModuleNotFoundError\u001b[0m                       Traceback (most recent call last)",
      "\u001b[1;32m/Users/yoshihiroashihara/VFMcalcProj/JGB_rates_for_Discount_rate_setting_test.ipynb セル 1\u001b[0m line \u001b[0;36m8\n\u001b[1;32m      <a href='vscode-notebook-cell:/Users/yoshihiroashihara/VFMcalcProj/JGB_rates_for_Discount_rate_setting_test.ipynb#W0sZmlsZQ%3D%3D?line=5'>6</a>\u001b[0m \u001b[39mimport\u001b[39;00m \u001b[39mflet\u001b[39;00m\n\u001b[1;32m      <a href='vscode-notebook-cell:/Users/yoshihiroashihara/VFMcalcProj/JGB_rates_for_Discount_rate_setting_test.ipynb#W0sZmlsZQ%3D%3D?line=6'>7</a>\u001b[0m \u001b[39mimport\u001b[39;00m \u001b[39mpyarrow\u001b[39;00m\n\u001b[0;32m----> <a href='vscode-notebook-cell:/Users/yoshihiroashihara/VFMcalcProj/JGB_rates_for_Discount_rate_setting_test.ipynb#W0sZmlsZQ%3D%3D?line=7'>8</a>\u001b[0m \u001b[39mimport\u001b[39;00m \u001b[39mtinydb\u001b[39;00m\n",
      "\u001b[0;31mModuleNotFoundError\u001b[0m: No module named 'tinydb'"
     ]
    }
   ],
   "source": [
    "import joblib\n",
    "import pandas as pd\n",
    "from datetime import datetime\n",
    "import numpy as np\n",
    "import duckdb\n",
    "import flet\n",
    "import pyarrow\n",
    "#import tinydb"
   ]
  },
  {
   "cell_type": "code",
   "execution_count": 6,
   "id": "e4a5f633",
   "metadata": {
    "id": "e4a5f633",
    "scrolled": false
   },
   "outputs": [],
   "source": [
    "JGB_rates = pd.read_csv('https://www.mof.go.jp/jgbs/reference/interest_rate/data/jgbcm_all.csv', encoding='Shift-JIS', header=1)"
   ]
  },
  {
   "cell_type": "code",
   "execution_count": 7,
   "id": "87121fcd",
   "metadata": {
    "id": "87121fcd"
   },
   "outputs": [
    {
     "data": {
      "text/html": [
       "<div>\n",
       "<style scoped>\n",
       "    .dataframe tbody tr th:only-of-type {\n",
       "        vertical-align: middle;\n",
       "    }\n",
       "\n",
       "    .dataframe tbody tr th {\n",
       "        vertical-align: top;\n",
       "    }\n",
       "\n",
       "    .dataframe thead th {\n",
       "        text-align: right;\n",
       "    }\n",
       "</style>\n",
       "<table border=\"1\" class=\"dataframe\">\n",
       "  <thead>\n",
       "    <tr style=\"text-align: right;\">\n",
       "      <th></th>\n",
       "      <th>基準日</th>\n",
       "      <th>1年</th>\n",
       "      <th>2年</th>\n",
       "      <th>3年</th>\n",
       "      <th>4年</th>\n",
       "      <th>5年</th>\n",
       "      <th>6年</th>\n",
       "      <th>7年</th>\n",
       "      <th>8年</th>\n",
       "      <th>9年</th>\n",
       "      <th>10年</th>\n",
       "      <th>15年</th>\n",
       "      <th>20年</th>\n",
       "      <th>25年</th>\n",
       "      <th>30年</th>\n",
       "      <th>40年</th>\n",
       "    </tr>\n",
       "  </thead>\n",
       "  <tbody>\n",
       "    <tr>\n",
       "      <th>0</th>\n",
       "      <td>S49.9.24</td>\n",
       "      <td>10.327</td>\n",
       "      <td>9.362</td>\n",
       "      <td>8.83</td>\n",
       "      <td>8.515</td>\n",
       "      <td>8.348</td>\n",
       "      <td>8.290</td>\n",
       "      <td>8.24</td>\n",
       "      <td>8.121</td>\n",
       "      <td>8.127</td>\n",
       "      <td>-</td>\n",
       "      <td>-</td>\n",
       "      <td>-</td>\n",
       "      <td>-</td>\n",
       "      <td>-</td>\n",
       "      <td>-</td>\n",
       "    </tr>\n",
       "    <tr>\n",
       "      <th>1</th>\n",
       "      <td>S49.9.25</td>\n",
       "      <td>10.333</td>\n",
       "      <td>9.364</td>\n",
       "      <td>8.831</td>\n",
       "      <td>8.516</td>\n",
       "      <td>8.348</td>\n",
       "      <td>8.290</td>\n",
       "      <td>8.24</td>\n",
       "      <td>8.121</td>\n",
       "      <td>8.127</td>\n",
       "      <td>-</td>\n",
       "      <td>-</td>\n",
       "      <td>-</td>\n",
       "      <td>-</td>\n",
       "      <td>-</td>\n",
       "      <td>-</td>\n",
       "    </tr>\n",
       "    <tr>\n",
       "      <th>2</th>\n",
       "      <td>S49.9.26</td>\n",
       "      <td>10.34</td>\n",
       "      <td>9.366</td>\n",
       "      <td>8.832</td>\n",
       "      <td>8.516</td>\n",
       "      <td>8.348</td>\n",
       "      <td>8.290</td>\n",
       "      <td>8.24</td>\n",
       "      <td>8.122</td>\n",
       "      <td>8.128</td>\n",
       "      <td>-</td>\n",
       "      <td>-</td>\n",
       "      <td>-</td>\n",
       "      <td>-</td>\n",
       "      <td>-</td>\n",
       "      <td>-</td>\n",
       "    </tr>\n",
       "    <tr>\n",
       "      <th>3</th>\n",
       "      <td>S49.9.27</td>\n",
       "      <td>10.347</td>\n",
       "      <td>9.367</td>\n",
       "      <td>8.833</td>\n",
       "      <td>8.517</td>\n",
       "      <td>8.349</td>\n",
       "      <td>8.290</td>\n",
       "      <td>8.24</td>\n",
       "      <td>8.122</td>\n",
       "      <td>8.128</td>\n",
       "      <td>-</td>\n",
       "      <td>-</td>\n",
       "      <td>-</td>\n",
       "      <td>-</td>\n",
       "      <td>-</td>\n",
       "      <td>-</td>\n",
       "    </tr>\n",
       "    <tr>\n",
       "      <th>4</th>\n",
       "      <td>S49.9.28</td>\n",
       "      <td>10.354</td>\n",
       "      <td>9.369</td>\n",
       "      <td>8.834</td>\n",
       "      <td>8.518</td>\n",
       "      <td>8.349</td>\n",
       "      <td>8.291</td>\n",
       "      <td>8.24</td>\n",
       "      <td>8.122</td>\n",
       "      <td>8.129</td>\n",
       "      <td>-</td>\n",
       "      <td>-</td>\n",
       "      <td>-</td>\n",
       "      <td>-</td>\n",
       "      <td>-</td>\n",
       "      <td>-</td>\n",
       "    </tr>\n",
       "  </tbody>\n",
       "</table>\n",
       "</div>"
      ],
      "text/plain": [
       "        基準日      1年     2年     3年     4年     5年     6年    7年     8年     9年  \\\n",
       "0  S49.9.24  10.327  9.362   8.83  8.515  8.348  8.290  8.24  8.121  8.127   \n",
       "1  S49.9.25  10.333  9.364  8.831  8.516  8.348  8.290  8.24  8.121  8.127   \n",
       "2  S49.9.26   10.34  9.366  8.832  8.516  8.348  8.290  8.24  8.122  8.128   \n",
       "3  S49.9.27  10.347  9.367  8.833  8.517  8.349  8.290  8.24  8.122  8.128   \n",
       "4  S49.9.28  10.354  9.369  8.834  8.518  8.349  8.291  8.24  8.122  8.129   \n",
       "\n",
       "  10年 15年 20年 25年 30年 40年  \n",
       "0   -   -   -   -   -   -  \n",
       "1   -   -   -   -   -   -  \n",
       "2   -   -   -   -   -   -  \n",
       "3   -   -   -   -   -   -  \n",
       "4   -   -   -   -   -   -  "
      ]
     },
     "execution_count": 7,
     "metadata": {},
     "output_type": "execute_result"
    }
   ],
   "source": [
    "JGB_rates.head()"
   ]
  },
  {
   "cell_type": "code",
   "execution_count": 8,
   "id": "aPhisk8tzRv1",
   "metadata": {
    "id": "aPhisk8tzRv1"
   },
   "outputs": [],
   "source": [
    "def dateConv(date):\n",
    "\n",
    "    wareki = {\n",
    "            \"R\":2018,\n",
    "            \"H\":1988,\n",
    "            \"S\":1925\n",
    "            }\n",
    "  \n",
    "    date_els = date.split('.', 2)\n",
    "    year_num = int(date_els[0][1:])\n",
    "    era = date_els[0][0]\n",
    " \n",
    "    year = year_num + wareki[era]\n",
    "\n",
    "    month =int(date_els[1])\n",
    "    day = int(date_els[2])\n",
    "\n",
    "    dt = datetime(year, month, day)\n",
    "\n",
    "    return dt\n",
    "\n"
   ]
  },
  {
   "cell_type": "code",
   "execution_count": 9,
   "id": "8652c71a",
   "metadata": {
    "id": "8652c71a"
   },
   "outputs": [],
   "source": [
    "JGB_rates[\"基準日\"] = JGB_rates['基準日'].apply(dateConv)\n",
    "JGB_rates = JGB_rates.set_index('基準日')\n",
    "JGB_rates.replace('-', np.nan, inplace=True)"
   ]
  },
  {
   "cell_type": "code",
   "execution_count": 10,
   "id": "37a7f197",
   "metadata": {
    "id": "37a7f197"
   },
   "outputs": [
    {
     "data": {
      "text/html": [
       "<div>\n",
       "<style scoped>\n",
       "    .dataframe tbody tr th:only-of-type {\n",
       "        vertical-align: middle;\n",
       "    }\n",
       "\n",
       "    .dataframe tbody tr th {\n",
       "        vertical-align: top;\n",
       "    }\n",
       "\n",
       "    .dataframe thead th {\n",
       "        text-align: right;\n",
       "    }\n",
       "</style>\n",
       "<table border=\"1\" class=\"dataframe\">\n",
       "  <thead>\n",
       "    <tr style=\"text-align: right;\">\n",
       "      <th></th>\n",
       "      <th>1年</th>\n",
       "      <th>2年</th>\n",
       "      <th>3年</th>\n",
       "      <th>4年</th>\n",
       "      <th>5年</th>\n",
       "      <th>6年</th>\n",
       "      <th>7年</th>\n",
       "      <th>8年</th>\n",
       "      <th>9年</th>\n",
       "      <th>10年</th>\n",
       "      <th>15年</th>\n",
       "      <th>20年</th>\n",
       "      <th>25年</th>\n",
       "      <th>30年</th>\n",
       "      <th>40年</th>\n",
       "    </tr>\n",
       "    <tr>\n",
       "      <th>基準日</th>\n",
       "      <th></th>\n",
       "      <th></th>\n",
       "      <th></th>\n",
       "      <th></th>\n",
       "      <th></th>\n",
       "      <th></th>\n",
       "      <th></th>\n",
       "      <th></th>\n",
       "      <th></th>\n",
       "      <th></th>\n",
       "      <th></th>\n",
       "      <th></th>\n",
       "      <th></th>\n",
       "      <th></th>\n",
       "      <th></th>\n",
       "    </tr>\n",
       "  </thead>\n",
       "  <tbody>\n",
       "    <tr>\n",
       "      <th>1974-09-24</th>\n",
       "      <td>10.327</td>\n",
       "      <td>9.362</td>\n",
       "      <td>8.83</td>\n",
       "      <td>8.515</td>\n",
       "      <td>8.348</td>\n",
       "      <td>8.290</td>\n",
       "      <td>8.24</td>\n",
       "      <td>8.121</td>\n",
       "      <td>8.127</td>\n",
       "      <td>NaN</td>\n",
       "      <td>NaN</td>\n",
       "      <td>NaN</td>\n",
       "      <td>NaN</td>\n",
       "      <td>NaN</td>\n",
       "      <td>NaN</td>\n",
       "    </tr>\n",
       "    <tr>\n",
       "      <th>1974-09-25</th>\n",
       "      <td>10.333</td>\n",
       "      <td>9.364</td>\n",
       "      <td>8.831</td>\n",
       "      <td>8.516</td>\n",
       "      <td>8.348</td>\n",
       "      <td>8.290</td>\n",
       "      <td>8.24</td>\n",
       "      <td>8.121</td>\n",
       "      <td>8.127</td>\n",
       "      <td>NaN</td>\n",
       "      <td>NaN</td>\n",
       "      <td>NaN</td>\n",
       "      <td>NaN</td>\n",
       "      <td>NaN</td>\n",
       "      <td>NaN</td>\n",
       "    </tr>\n",
       "    <tr>\n",
       "      <th>1974-09-26</th>\n",
       "      <td>10.34</td>\n",
       "      <td>9.366</td>\n",
       "      <td>8.832</td>\n",
       "      <td>8.516</td>\n",
       "      <td>8.348</td>\n",
       "      <td>8.290</td>\n",
       "      <td>8.24</td>\n",
       "      <td>8.122</td>\n",
       "      <td>8.128</td>\n",
       "      <td>NaN</td>\n",
       "      <td>NaN</td>\n",
       "      <td>NaN</td>\n",
       "      <td>NaN</td>\n",
       "      <td>NaN</td>\n",
       "      <td>NaN</td>\n",
       "    </tr>\n",
       "    <tr>\n",
       "      <th>1974-09-27</th>\n",
       "      <td>10.347</td>\n",
       "      <td>9.367</td>\n",
       "      <td>8.833</td>\n",
       "      <td>8.517</td>\n",
       "      <td>8.349</td>\n",
       "      <td>8.290</td>\n",
       "      <td>8.24</td>\n",
       "      <td>8.122</td>\n",
       "      <td>8.128</td>\n",
       "      <td>NaN</td>\n",
       "      <td>NaN</td>\n",
       "      <td>NaN</td>\n",
       "      <td>NaN</td>\n",
       "      <td>NaN</td>\n",
       "      <td>NaN</td>\n",
       "    </tr>\n",
       "    <tr>\n",
       "      <th>1974-09-28</th>\n",
       "      <td>10.354</td>\n",
       "      <td>9.369</td>\n",
       "      <td>8.834</td>\n",
       "      <td>8.518</td>\n",
       "      <td>8.349</td>\n",
       "      <td>8.291</td>\n",
       "      <td>8.24</td>\n",
       "      <td>8.122</td>\n",
       "      <td>8.129</td>\n",
       "      <td>NaN</td>\n",
       "      <td>NaN</td>\n",
       "      <td>NaN</td>\n",
       "      <td>NaN</td>\n",
       "      <td>NaN</td>\n",
       "      <td>NaN</td>\n",
       "    </tr>\n",
       "  </tbody>\n",
       "</table>\n",
       "</div>"
      ],
      "text/plain": [
       "                1年     2年     3年     4年     5年     6年    7年     8年     9年  \\\n",
       "基準日                                                                         \n",
       "1974-09-24  10.327  9.362   8.83  8.515  8.348  8.290  8.24  8.121  8.127   \n",
       "1974-09-25  10.333  9.364  8.831  8.516  8.348  8.290  8.24  8.121  8.127   \n",
       "1974-09-26   10.34  9.366  8.832  8.516  8.348  8.290  8.24  8.122  8.128   \n",
       "1974-09-27  10.347  9.367  8.833  8.517  8.349  8.290  8.24  8.122  8.128   \n",
       "1974-09-28  10.354  9.369  8.834  8.518  8.349  8.291  8.24  8.122  8.129   \n",
       "\n",
       "            10年  15年  20年  25年  30年  40年  \n",
       "基準日                                       \n",
       "1974-09-24  NaN  NaN  NaN  NaN  NaN  NaN  \n",
       "1974-09-25  NaN  NaN  NaN  NaN  NaN  NaN  \n",
       "1974-09-26  NaN  NaN  NaN  NaN  NaN  NaN  \n",
       "1974-09-27  NaN  NaN  NaN  NaN  NaN  NaN  \n",
       "1974-09-28  NaN  NaN  NaN  NaN  NaN  NaN  "
      ]
     },
     "execution_count": 10,
     "metadata": {},
     "output_type": "execute_result"
    }
   ],
   "source": [
    "JGB_rates.head()"
   ]
  },
  {
   "cell_type": "code",
   "execution_count": 11,
   "id": "LMz-9FizISie",
   "metadata": {
    "id": "LMz-9FizISie"
   },
   "outputs": [
    {
     "name": "stdout",
     "output_type": "stream",
     "text": [
      "<class 'pandas.core.frame.DataFrame'>\n",
      "DatetimeIndex: 12559 entries, 1974-09-24 to 2023-08-31\n",
      "Data columns (total 15 columns):\n",
      " #   Column  Non-Null Count  Dtype  \n",
      "---  ------  --------------  -----  \n",
      " 0   1年      11911 non-null  object \n",
      " 1   2年      12198 non-null  object \n",
      " 2   3年      12483 non-null  object \n",
      " 3   4年      12559 non-null  float64\n",
      " 4   5年      12559 non-null  float64\n",
      " 5   6年      12559 non-null  float64\n",
      " 6   7年      12559 non-null  float64\n",
      " 7   8年      12559 non-null  float64\n",
      " 8   9年      12559 non-null  float64\n",
      " 9   10年     9198 non-null   object \n",
      " 10  15年     7857 non-null   object \n",
      " 11  20年     9085 non-null   object \n",
      " 12  25年     4764 non-null   object \n",
      " 13  30年     5882 non-null   object \n",
      " 14  40年     3870 non-null   object \n",
      "dtypes: float64(6), object(9)\n",
      "memory usage: 1.5+ MB\n"
     ]
    }
   ],
   "source": [
    "JGB_rates.info()"
   ]
  },
  {
   "cell_type": "code",
   "execution_count": 12,
   "id": "17c3dc24",
   "metadata": {
    "id": "17c3dc24"
   },
   "outputs": [
    {
     "data": {
      "text/plain": [
       "基準日\n",
       "1974-12-31    8.377000\n",
       "1975-12-31    8.483218\n",
       "1976-12-31    8.735269\n",
       "1977-12-31    7.500503\n",
       "1978-12-31    5.929144\n",
       "1979-12-31    7.424343\n",
       "1980-12-31    8.638351\n",
       "1981-12-31    8.210207\n",
       "1982-12-31    8.126912\n",
       "1983-12-31    7.693021\n",
       "1984-12-31    6.959432\n",
       "1985-12-31    6.359263\n",
       "1986-12-31    5.153240\n",
       "1987-12-31    4.267631\n",
       "1988-12-31    4.180077\n",
       "1989-12-31    5.005743\n",
       "1990-12-31    7.051776\n",
       "1991-12-31    6.474069\n",
       "1992-12-31    4.856466\n",
       "1993-12-31    3.606285\n",
       "1994-12-31    3.673360\n",
       "1995-12-31    2.608570\n",
       "1996-12-31    2.208781\n",
       "1997-12-31    1.546653\n",
       "1998-12-31    1.018368\n",
       "1999-12-31    0.983000\n",
       "2000-12-31    1.101435\n",
       "2001-12-31    0.540703\n",
       "2002-12-31    0.441244\n",
       "2003-12-31    0.409922\n",
       "2004-12-31    0.666313\n",
       "2005-12-31    0.628220\n",
       "2006-12-31    1.229774\n",
       "2007-12-31    1.236090\n",
       "2008-12-31    1.016457\n",
       "2009-12-31    0.702761\n",
       "2010-12-31    0.419980\n",
       "2011-12-31    0.427437\n",
       "2012-12-31    0.246508\n",
       "2013-12-31    0.235371\n",
       "2014-12-31    0.162418\n",
       "2015-12-31    0.078107\n",
       "2016-12-31   -0.187139\n",
       "2017-12-31   -0.108397\n",
       "2018-12-31   -0.094796\n",
       "2019-12-31   -0.217668\n",
       "2020-12-31   -0.118770\n",
       "2021-12-31   -0.096441\n",
       "2022-12-31    0.047131\n",
       "2023-12-31    0.163122\n",
       "Freq: A-DEC, Name: 5年, dtype: float64"
      ]
     },
     "execution_count": 12,
     "metadata": {},
     "output_type": "execute_result"
    }
   ],
   "source": [
    "JGB_rates['5年'].resample('Y').mean()"
   ]
  },
  {
   "cell_type": "code",
   "execution_count": 13,
   "id": "a1f9573c",
   "metadata": {
    "id": "a1f9573c"
   },
   "outputs": [],
   "source": [
    "JGB_rate_5_30 = JGB_rates[['5年', '10年', '15年', '20年', '25年', '30年']].dropna()\n",
    "JGB_rate_5_30 = JGB_rate_5_30.astype(float, errors='raise')"
   ]
  },
  {
   "cell_type": "code",
   "execution_count": 14,
   "id": "80a485ad",
   "metadata": {
    "id": "80a485ad"
   },
   "outputs": [
    {
     "data": {
      "text/html": [
       "<div>\n",
       "<style scoped>\n",
       "    .dataframe tbody tr th:only-of-type {\n",
       "        vertical-align: middle;\n",
       "    }\n",
       "\n",
       "    .dataframe tbody tr th {\n",
       "        vertical-align: top;\n",
       "    }\n",
       "\n",
       "    .dataframe thead th {\n",
       "        text-align: right;\n",
       "    }\n",
       "</style>\n",
       "<table border=\"1\" class=\"dataframe\">\n",
       "  <thead>\n",
       "    <tr style=\"text-align: right;\">\n",
       "      <th></th>\n",
       "      <th>5年</th>\n",
       "      <th>10年</th>\n",
       "      <th>15年</th>\n",
       "      <th>20年</th>\n",
       "      <th>25年</th>\n",
       "      <th>30年</th>\n",
       "    </tr>\n",
       "    <tr>\n",
       "      <th>基準日</th>\n",
       "      <th></th>\n",
       "      <th></th>\n",
       "      <th></th>\n",
       "      <th></th>\n",
       "      <th></th>\n",
       "      <th></th>\n",
       "    </tr>\n",
       "  </thead>\n",
       "  <tbody>\n",
       "    <tr>\n",
       "      <th>2022-09-30</th>\n",
       "      <td>0.064750</td>\n",
       "      <td>0.269250</td>\n",
       "      <td>0.670050</td>\n",
       "      <td>0.951600</td>\n",
       "      <td>1.160450</td>\n",
       "      <td>1.311800</td>\n",
       "    </tr>\n",
       "    <tr>\n",
       "      <th>2022-10-31</th>\n",
       "      <td>0.090850</td>\n",
       "      <td>0.257150</td>\n",
       "      <td>0.769350</td>\n",
       "      <td>1.081450</td>\n",
       "      <td>1.298250</td>\n",
       "      <td>1.456100</td>\n",
       "    </tr>\n",
       "    <tr>\n",
       "      <th>2022-11-30</th>\n",
       "      <td>0.087100</td>\n",
       "      <td>0.265300</td>\n",
       "      <td>0.786750</td>\n",
       "      <td>1.104550</td>\n",
       "      <td>1.314900</td>\n",
       "      <td>1.480100</td>\n",
       "    </tr>\n",
       "    <tr>\n",
       "      <th>2022-12-31</th>\n",
       "      <td>0.178273</td>\n",
       "      <td>0.357045</td>\n",
       "      <td>0.873182</td>\n",
       "      <td>1.164773</td>\n",
       "      <td>1.351409</td>\n",
       "      <td>1.485909</td>\n",
       "    </tr>\n",
       "    <tr>\n",
       "      <th>2023-01-31</th>\n",
       "      <td>0.235947</td>\n",
       "      <td>0.479053</td>\n",
       "      <td>1.054789</td>\n",
       "      <td>1.327947</td>\n",
       "      <td>1.489789</td>\n",
       "      <td>1.575895</td>\n",
       "    </tr>\n",
       "    <tr>\n",
       "      <th>2023-02-28</th>\n",
       "      <td>0.214895</td>\n",
       "      <td>0.520053</td>\n",
       "      <td>1.047158</td>\n",
       "      <td>1.310474</td>\n",
       "      <td>1.444000</td>\n",
       "      <td>1.508579</td>\n",
       "    </tr>\n",
       "    <tr>\n",
       "      <th>2023-03-31</th>\n",
       "      <td>0.150727</td>\n",
       "      <td>0.402455</td>\n",
       "      <td>0.860500</td>\n",
       "      <td>1.135818</td>\n",
       "      <td>1.265727</td>\n",
       "      <td>1.353545</td>\n",
       "    </tr>\n",
       "    <tr>\n",
       "      <th>2023-04-30</th>\n",
       "      <td>0.160650</td>\n",
       "      <td>0.466450</td>\n",
       "      <td>0.850750</td>\n",
       "      <td>1.105800</td>\n",
       "      <td>1.241600</td>\n",
       "      <td>1.335400</td>\n",
       "    </tr>\n",
       "    <tr>\n",
       "      <th>2023-05-31</th>\n",
       "      <td>0.115050</td>\n",
       "      <td>0.419100</td>\n",
       "      <td>0.761300</td>\n",
       "      <td>1.020850</td>\n",
       "      <td>1.165400</td>\n",
       "      <td>1.265000</td>\n",
       "    </tr>\n",
       "    <tr>\n",
       "      <th>2023-06-30</th>\n",
       "      <td>0.089818</td>\n",
       "      <td>0.423455</td>\n",
       "      <td>0.753636</td>\n",
       "      <td>1.010091</td>\n",
       "      <td>1.152227</td>\n",
       "      <td>1.253227</td>\n",
       "    </tr>\n",
       "    <tr>\n",
       "      <th>2023-07-31</th>\n",
       "      <td>0.120050</td>\n",
       "      <td>0.464500</td>\n",
       "      <td>0.819400</td>\n",
       "      <td>1.078850</td>\n",
       "      <td>1.225100</td>\n",
       "      <td>1.316250</td>\n",
       "    </tr>\n",
       "    <tr>\n",
       "      <th>2023-08-31</th>\n",
       "      <td>0.226318</td>\n",
       "      <td>0.639091</td>\n",
       "      <td>1.031591</td>\n",
       "      <td>1.317682</td>\n",
       "      <td>1.462682</td>\n",
       "      <td>1.551545</td>\n",
       "    </tr>\n",
       "  </tbody>\n",
       "</table>\n",
       "</div>"
      ],
      "text/plain": [
       "                  5年       10年       15年       20年       25年       30年\n",
       "基準日                                                                   \n",
       "2022-09-30  0.064750  0.269250  0.670050  0.951600  1.160450  1.311800\n",
       "2022-10-31  0.090850  0.257150  0.769350  1.081450  1.298250  1.456100\n",
       "2022-11-30  0.087100  0.265300  0.786750  1.104550  1.314900  1.480100\n",
       "2022-12-31  0.178273  0.357045  0.873182  1.164773  1.351409  1.485909\n",
       "2023-01-31  0.235947  0.479053  1.054789  1.327947  1.489789  1.575895\n",
       "2023-02-28  0.214895  0.520053  1.047158  1.310474  1.444000  1.508579\n",
       "2023-03-31  0.150727  0.402455  0.860500  1.135818  1.265727  1.353545\n",
       "2023-04-30  0.160650  0.466450  0.850750  1.105800  1.241600  1.335400\n",
       "2023-05-31  0.115050  0.419100  0.761300  1.020850  1.165400  1.265000\n",
       "2023-06-30  0.089818  0.423455  0.753636  1.010091  1.152227  1.253227\n",
       "2023-07-31  0.120050  0.464500  0.819400  1.078850  1.225100  1.316250\n",
       "2023-08-31  0.226318  0.639091  1.031591  1.317682  1.462682  1.551545"
      ]
     },
     "execution_count": 14,
     "metadata": {},
     "output_type": "execute_result"
    }
   ],
   "source": [
    "JGB_rate_5_30_12M = JGB_rate_5_30.resample('M').mean().tail(12)\n",
    "JGB_rate_5_30_12M"
   ]
  },
  {
   "cell_type": "code",
   "execution_count": 15,
   "id": "81c6bfc2",
   "metadata": {
    "id": "81c6bfc2"
   },
   "outputs": [],
   "source": [
    "JGB_rate_5_30_12M_dic = JGB_rate_5_30_12M.mean().to_dict()"
   ]
  },
  {
   "cell_type": "code",
   "execution_count": 16,
   "id": "303dd723",
   "metadata": {},
   "outputs": [
    {
     "data": {
      "text/plain": [
       "dict_values([0.1445357057416268, 0.41357505980861237, 0.8565380382775118, 1.1341570574162678, 1.2976279106858053, 1.407779246411483])"
      ]
     },
     "execution_count": 16,
     "metadata": {},
     "output_type": "execute_result"
    }
   ],
   "source": [
    "JGB_rate_5_30_12M_dic.values()"
   ]
  },
  {
   "cell_type": "code",
   "execution_count": 56,
   "id": "302979ab",
   "metadata": {},
   "outputs": [],
   "source": [
    "JGB_rate_5_30_12M_sr = JGB_rate_5_30_12M.mean()\n",
    "JGB_rate_5_30_12M_df = pd.DataFrame(JGB_rate_5_30_12M_sr, columns=['利率'])\n",
    "JGB_rate_5_30_12M_df = JGB_rate_5_30_12M_df.transpose()"
   ]
  },
  {
   "cell_type": "code",
   "execution_count": 57,
   "id": "2da528b8",
   "metadata": {},
   "outputs": [],
   "source": [
    "con = duckdb.connect('initial_inputs.db')"
   ]
  },
  {
   "cell_type": "code",
   "execution_count": 58,
   "id": "682877cb",
   "metadata": {},
   "outputs": [],
   "source": [
    "con.sql('DROP TABLE IF EXISTS table1')\n",
    "con.sql('CREATE TABLE table1 as SELECT * FROM JGB_rate_5_30_12M_df')"
   ]
  },
  {
   "cell_type": "code",
   "execution_count": 59,
   "id": "dbdda2eb",
   "metadata": {},
   "outputs": [
    {
     "name": "stderr",
     "output_type": "stream",
     "text": [
      "/var/folders/m9/b7w2rb316zz6kw4n96k_km200000gn/T/ipykernel_79837/1298584288.py:1: UserWarning: pandas only supports SQLAlchemy connectable (engine/connection) or database string URI or sqlite3 DBAPI2 connection. Other DBAPI2 objects are not tested. Please consider using SQLAlchemy.\n",
      "  initial_inputs = pd.read_sql('select * from table1', con)\n"
     ]
    },
    {
     "data": {
      "text/html": [
       "<div>\n",
       "<style scoped>\n",
       "    .dataframe tbody tr th:only-of-type {\n",
       "        vertical-align: middle;\n",
       "    }\n",
       "\n",
       "    .dataframe tbody tr th {\n",
       "        vertical-align: top;\n",
       "    }\n",
       "\n",
       "    .dataframe thead th {\n",
       "        text-align: right;\n",
       "    }\n",
       "</style>\n",
       "<table border=\"1\" class=\"dataframe\">\n",
       "  <thead>\n",
       "    <tr style=\"text-align: right;\">\n",
       "      <th></th>\n",
       "      <th>5年</th>\n",
       "      <th>10年</th>\n",
       "      <th>15年</th>\n",
       "      <th>20年</th>\n",
       "      <th>25年</th>\n",
       "      <th>30年</th>\n",
       "    </tr>\n",
       "  </thead>\n",
       "  <tbody>\n",
       "    <tr>\n",
       "      <th>0</th>\n",
       "      <td>0.144536</td>\n",
       "      <td>0.413575</td>\n",
       "      <td>0.856538</td>\n",
       "      <td>1.134157</td>\n",
       "      <td>1.297628</td>\n",
       "      <td>1.407779</td>\n",
       "    </tr>\n",
       "  </tbody>\n",
       "</table>\n",
       "</div>"
      ],
      "text/plain": [
       "         5年       10年       15年       20年       25年       30年\n",
       "0  0.144536  0.413575  0.856538  1.134157  1.297628  1.407779"
      ]
     },
     "execution_count": 59,
     "metadata": {},
     "output_type": "execute_result"
    }
   ],
   "source": [
    "initial_inputs = pd.read_sql('select * from table1', con)\n",
    "initial_inputs"
   ]
  },
  {
   "cell_type": "code",
   "execution_count": 38,
   "id": "bd457224",
   "metadata": {},
   "outputs": [],
   "source": [
    "initial_inputs['年限'] = ['5年', '10年', '15年', '20年', '25年', '30年']\n",
    "initial_inputs.set_index('年限', inplace=True)"
   ]
  },
  {
   "cell_type": "code",
   "execution_count": 67,
   "id": "f27d3e5f",
   "metadata": {},
   "outputs": [
    {
     "data": {
      "text/plain": [
       "0.1445357057416268"
      ]
     },
     "execution_count": 67,
     "metadata": {},
     "output_type": "execute_result"
    }
   ],
   "source": [
    "initial_inputs['5年'][0]"
   ]
  },
  {
   "cell_type": "code",
   "execution_count": null,
   "id": "0b92734c",
   "metadata": {},
   "outputs": [],
   "source": []
  }
 ],
 "metadata": {
  "colab": {
   "provenance": []
  },
  "kernelspec": {
   "display_name": "Python 3 (ipykernel)",
   "language": "python",
   "name": "python3"
  },
  "language_info": {
   "codemirror_mode": {
    "name": "ipython",
    "version": 3
   },
   "file_extension": ".py",
   "mimetype": "text/x-python",
   "name": "python",
   "nbconvert_exporter": "python",
   "pygments_lexer": "ipython3",
   "version": "3.11.4"
  }
 },
 "nbformat": 4,
 "nbformat_minor": 5
}
